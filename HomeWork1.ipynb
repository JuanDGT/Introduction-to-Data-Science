{
 "cells": [
  {
   "cell_type": "markdown",
   "metadata": {},
   "source": [
    "1. Crear una función capaz de convertir números enteros de base 10 a base.<br>\n",
    "2. Debe recibir como parámetro el número a convertir<br>\n",
    "Consideraciones:<br> \n",
    "a. Tratar de resolverlo sin usar la función format(nro,\"b\")<br>\n",
    "b. El pdf \"conversion-de-decimal-a-binario.pdf\" puede servir de ayuda."
   ]
  },
  {
   "cell_type": "code",
   "execution_count": 3,
   "metadata": {},
   "outputs": [],
   "source": [
    "def NumeroBinario(numero):\n",
    "    '''\n",
    "    Esta función recibe como parámetro un número entero mayor ó igual a cero y lo devuelve en su \n",
    "    representación binaria. Debe recibir y devolver un valor de tipo entero.\n",
    "    En caso de que el parámetro no sea de tipo entero y mayor a -1 retorna nulo.\n",
    "    '''\n",
    "    numero_binario = 0\n",
    "    multiplicador = 1\n",
    "    while numero != 0:\n",
    "        # se almacena el módulo en el orden correcto\n",
    "        numero_binario = numero_binario + numero % 2 * multiplicador\n",
    "        numero //= 2\n",
    "        multiplicador *= 10\n",
    "\n",
    "    return numero_binario"
   ]
  },
  {
   "cell_type": "code",
   "execution_count": 4,
   "metadata": {},
   "outputs": [
    {
     "data": {
      "text/plain": [
       "11101"
      ]
     },
     "execution_count": 4,
     "metadata": {},
     "output_type": "execute_result"
    }
   ],
   "source": [
    "# Ejemplo:\n",
    "NumeroBinario(29)"
   ]
  },
  {
   "cell_type": "markdown",
   "metadata": {},
   "source": [
    "2) Convertir de decimal a binario las fracciones 1/2, 1/3, 1/4, 1/5, 1/6, 1/7, 1/8, 1/9. Luego analizar los resultados y observar qué particularidad se encuentra en los mismos. Se puede usar Python o una calculadora, lo importante es ver si hay algo que podemos notar..."
   ]
  },
  {
   "cell_type": "markdown",
   "metadata": {},
   "source": [
    "Salida esperada:\n",
    "* Fraccion 1 / 2 :  0.5  y En binario:  0.1\n",
    "* Fraccion 1 / 3 :  0.3333333333333333  y En binario:  0.010101010101010101010101\n",
    "* Fraccion 1 / 4 :  0.25  y En binario:  0.01\n",
    "* Fraccion 1 / 5 :  0.2  y En binario:  0.001100110011001100110011\n",
    "* Fraccion 1 / 6 :  0.16666666666666666  y En binario:  0.001010101010101010101010\n",
    "* Fraccion 1 / 7 :  0.14285714285714285  y En binario:  0.001001001001001001001001\n",
    "* Fraccion 1 / 8 :  0.125  y En binario:  0.001\n",
    "* Fraccion 1 / 9 :  0.1111111111111111  y En binario:  0.000111000111000111000111"
   ]
  },
  {
   "cell_type": "code",
   "execution_count": 6,
   "metadata": {},
   "outputs": [],
   "source": [
    "def NumeroBinarioFraccionario(numero_decimal):\n",
    "    if (type(numero_decimal) != float):\n",
    "        return None\n",
    "    if ((numero_decimal > 1) or (numero_decimal < 0)):\n",
    "        return None\n",
    "    elif (numero_decimal == 0):\n",
    "        return 0\n",
    "    \n",
    "    lim_periodico = 24\n",
    "    lista_binario = []\n",
    "    i = 0\n",
    "    while((numero_decimal > 0) and (i < lim_periodico)):\n",
    "        lista_binario.append(int(numero_decimal * 2))\n",
    "        numero_decimal = numero_decimal * 2 - (int(numero_decimal * 2))\n",
    "        i+=1\n",
    "\n",
    "    numero_binario = '0.'\n",
    "    for e in lista_binario:\n",
    "        numero_binario = numero_binario + str(e)\n",
    "\n",
    "    return(numero_binario)    "
   ]
  },
  {
   "cell_type": "markdown",
   "metadata": {},
   "source": [
    "Pruebas:"
   ]
  },
  {
   "cell_type": "code",
   "execution_count": 8,
   "metadata": {},
   "outputs": [
    {
     "name": "stdout",
     "output_type": "stream",
     "text": [
      "Fraccion 1 / 2 en decimal: 0.5 y en binario: 0.1\n",
      "Fraccion 1 / 3 en decimal: 0.3333333333333333 y en binario: 0.010101010101010101010101\n",
      "Fraccion 1 / 4 en decimal: 0.25 y en binario: 0.01\n",
      "Fraccion 1 / 5 en decimal: 0.2 y en binario: 0.001100110011001100110011\n",
      "Fraccion 1 / 6 en decimal: 0.16666666666666666 y en binario: 0.001010101010101010101010\n",
      "Fraccion 1 / 7 en decimal: 0.14285714285714285 y en binario: 0.001001001001001001001001\n",
      "Fraccion 1 / 8 en decimal: 0.125 y en binario: 0.001\n",
      "Fraccion 1 / 9 en decimal: 0.1111111111111111 y en binario: 0.000111000111000111000111\n"
     ]
    }
   ],
   "source": [
    "for i in range(2,10):\n",
    "    valor = NumeroBinarioFraccionario(1/i)\n",
    "    print('Fraccion 1 /', i,'en decimal:',str(1/i), 'y en binario:',valor)"
   ]
  }
 ],
 "metadata": {
  "kernelspec": {
   "display_name": "Python 3.10.5 64-bit (windows store)",
   "language": "python",
   "name": "python3"
  },
  "language_info": {
   "codemirror_mode": {
    "name": "ipython",
    "version": 3
   },
   "file_extension": ".py",
   "mimetype": "text/x-python",
   "name": "python",
   "nbconvert_exporter": "python",
   "pygments_lexer": "ipython3",
   "version": "3.10.5"
  },
  "orig_nbformat": 4,
  "vscode": {
   "interpreter": {
    "hash": "704ba71d3a94faf3c71a69ddd6fba67fbf5b16cd7f59422874b91f46903111e2"
   }
  }
 },
 "nbformat": 4,
 "nbformat_minor": 2
}
